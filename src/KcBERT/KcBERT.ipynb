{
 "cells": [
  {
   "cell_type": "markdown",
   "source": [
    "# KcBERT\n",
    "\n",
    "[huggingface beomi/kcbert-large](https://huggingface.co/beomi/kcbert-large)\n",
    "\n",
    "입력받은 문장에서 [MASK] 처리된 부분에 문맥에 맞는 단어를 추가\n",
    "\n",
    "학습된 모델의 추론에 의해 적절한 단어와 score를 계산"
   ],
   "metadata": {
    "collapsed": false
   },
   "id": "5f06208fcf15201"
  },
  {
   "cell_type": "code",
   "execution_count": null,
   "outputs": [],
   "source": [
    "from src.Common.common import *\n",
    "\n",
    "from transformers import pipeline\n",
    "\n",
    "c = CommonObj()\n",
    "\n",
    "c.pipe = pipeline(\"fill-mask\", model = \"beomi/kcbert-large\", device = \"cuda\")"
   ],
   "metadata": {
    "collapsed": false
   },
   "id": "b79d40f3d3d826c3"
  },
  {
   "cell_type": "code",
   "execution_count": 23,
   "outputs": [],
   "source": [
    "c.inputs = [\n",
    "    \"컴퓨터 전원 [MASK]\",\n",
    "    \"삼성 주가 [MASK]\"\n",
    "]"
   ],
   "metadata": {
    "collapsed": false,
    "ExecuteTime": {
     "end_time": "2023-08-08T04:28:22.860629700Z",
     "start_time": "2023-08-08T04:28:22.857486500Z"
    }
   },
   "id": "5cbbc8470d0895ae"
  },
  {
   "cell_type": "code",
   "execution_count": 24,
   "outputs": [
    {
     "name": "stdout",
     "output_type": "stream",
     "text": [
      "[[{'score': 0.41595980525016785, 'token': 13704, 'token_str': '교체', 'sequence': '컴퓨터 전원 교체'}, {'score': 0.1944320946931839, 'token': 16124, 'token_str': '##교체', 'sequence': '컴퓨터 전원교체'}, {'score': 0.027366142719984055, 'token': 16225, 'token_str': '##사용', 'sequence': '컴퓨터 전원사용'}, {'score': 0.0247159656137228, 'token': 9021, 'token_str': '사용', 'sequence': '컴퓨터 전원 사용'}, {'score': 0.019460303708910942, 'token': 8631, 'token_str': '공개', 'sequence': '컴퓨터 전원 공개'}], [{'score': 0.18790872395038605, 'token': 12360, 'token_str': '상승', 'sequence': '삼성 주가 상승'}, {'score': 0.09015640616416931, 'token': 15609, 'token_str': '##상승', 'sequence': '삼성 주가상승'}, {'score': 0.08000001311302185, 'token': 23634, 'token_str': '오른다', 'sequence': '삼성 주가 오른다'}, {'score': 0.055400602519512177, 'token': 14831, 'token_str': '폭락', 'sequence': '삼성 주가 폭락'}, {'score': 0.05029084160923958, 'token': 12480, 'token_str': '폭등', 'sequence': '삼성 주가 폭등'}]]\n"
     ]
    }
   ],
   "source": [
    "c.outputs = c.pipe(c.inputs)\n",
    "print(c.outputs)"
   ],
   "metadata": {
    "collapsed": false,
    "ExecuteTime": {
     "end_time": "2023-08-08T04:28:25.576207800Z",
     "start_time": "2023-08-08T04:28:23.050671300Z"
    }
   },
   "id": "45ab88a19aaeed63"
  },
  {
   "cell_type": "code",
   "execution_count": 25,
   "outputs": [
    {
     "name": "stdout",
     "output_type": "stream",
     "text": [
      "score: 0.416, sentence: 컴퓨터 전원 교체\n",
      "score: 0.188, sentence: 삼성 주가 상승\n"
     ]
    }
   ],
   "source": [
    "for score_list in c.outputs:\n",
    "    max_score = 0\n",
    "    max_score_idx = -1\n",
    "    for i, res in enumerate(score_list):\n",
    "        if max_score < res[\"score\"]:\n",
    "            max_score = res[\"score\"]\n",
    "            max_score_idx = i\n",
    "    print(f\"score: {max_score:.3f}, sentence: {score_list[max_score_idx]['sequence']}\")"
   ],
   "metadata": {
    "collapsed": false,
    "ExecuteTime": {
     "end_time": "2023-08-08T04:28:26.943965200Z",
     "start_time": "2023-08-08T04:28:26.939865100Z"
    }
   },
   "id": "a55dfc1e1565a3f4"
  },
  {
   "cell_type": "code",
   "execution_count": 26,
   "outputs": [
    {
     "name": "stdout",
     "output_type": "stream",
     "text": [
      "\n",
      "/*====================================================================*/\n",
      "device:0\n",
      "NVIDIA GeForce RTX 3060\n",
      "\n",
      "GPU memory occupied: 5353 MB.\n",
      "\n",
      "Allocated GPU Memory: 1.25GB\n",
      "Reserved GPU Memory: 1.28GB\n",
      "/*====================================================================*/\n"
     ]
    }
   ],
   "source": [
    "del c"
   ],
   "metadata": {
    "collapsed": false,
    "ExecuteTime": {
     "end_time": "2023-08-08T04:28:28.485953300Z",
     "start_time": "2023-08-08T04:28:28.419061500Z"
    }
   },
   "id": "eccda8eb212f62ab"
  },
  {
   "cell_type": "code",
   "execution_count": null,
   "outputs": [],
   "source": [],
   "metadata": {
    "collapsed": false
   },
   "id": "689dce529111f32a"
  }
 ],
 "metadata": {
  "kernelspec": {
   "display_name": "Python 3",
   "language": "python",
   "name": "python3"
  },
  "language_info": {
   "codemirror_mode": {
    "name": "ipython",
    "version": 2
   },
   "file_extension": ".py",
   "mimetype": "text/x-python",
   "name": "python",
   "nbconvert_exporter": "python",
   "pygments_lexer": "ipython2",
   "version": "2.7.6"
  }
 },
 "nbformat": 4,
 "nbformat_minor": 5
}
